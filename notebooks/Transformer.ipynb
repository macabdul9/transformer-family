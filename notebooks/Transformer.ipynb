{
 "cells": [
  {
   "cell_type": "markdown",
   "metadata": {},
   "source": [
    "### Model"
   ]
  },
  {
   "cell_type": "code",
   "execution_count": null,
   "metadata": {},
   "outputs": [],
   "source": [
    "import torch\n",
    "import torch.nn as nn\n",
    "import torch.nn.functional as F"
   ]
  },
  {
   "cell_type": "markdown",
   "metadata": {},
   "source": [
    "##### Multihead Attention\n",
    "- Source\n",
    "    - [Algorithm Whiteboard : Attenton by Rasa](https://youtu.be/yGTUuEx3GkA)\n",
    "    - [Attention is all you need](https://arxiv.org/pdf/1706.03762.pdf)\n",
    "\n"
   ]
  },
  {
   "cell_type": "markdown",
   "metadata": {},
   "source": [
    "<img src=\"../assets/scp-mha.png\" width=\"1100\" height=\"200\"/>"
   ]
  },
  {
   "cell_type": "markdown",
   "metadata": {},
   "source": [
    "<img src=\"../assets/sda.png\" width=\"550\" height=\"700\"/> <img src=\"../assets/mha.png\" width=\"550\" height=\"700\"/> "
   ]
  },
  {
   "cell_type": "code",
   "execution_count": null,
   "metadata": {},
   "outputs": [],
   "source": [
    "class MHA(nn.Module):\n",
    "    \"\"\"\n",
    "        Multihead attention block used as attention mechanism in Transformer model\n",
    "    \"\"\"\n",
    "    def __init__(self, num_heads = 8, embedding_dim=256):\n",
    "        super(MHA, self).__init__()\n",
    "        \n",
    "        self.num_heads = num_heads\n",
    "        \n",
    "        # fully connected layers \n",
    "        self.fc_query = nn.Linear(in_features=embedding_dim, out_features=embedding_dim)\n",
    "        self.fc_key = nn.Linear(in_features=embedding_dim, out_features=embedding_dim)\n",
    "        self.fc_value = nn.Linear(in_features=embedding_dim, out_features=embedding_dim)\n",
    "        self.fc_out = nn.Linear(in_features=embedding_dim, out_features=embedding_dim)\n",
    "        \n",
    "        \n",
    "        # each linear\n",
    "        self.scale = torch.sqrt(torch.tensor([embedding_dim]))\n",
    "    \n",
    "    def forward(self, query, key, value):\n",
    "        \"\"\"\n",
    "            keys.shape = queries.shape == values.shape -> [batch_size, seq_len, embedding_dim]\n",
    "        \"\"\"\n",
    "        # pass them to linear layer\n",
    "        Q = self.fc_query(query)\n",
    "        K = self.fc_key(key)\n",
    "        V = self.fc_value(value)\n",
    "        \n",
    "        # compute the attention weights and apply softmax to compute the attention values\n",
    "        attention_weights = torch.einsum('bij,bjk->bik', queries, keys.permute(0, 2, 1))\n",
    "        \n",
    "#         attention = F.softmax(attention_weights, dim=1)\n",
    "#         print(attention_weights.shape, attention.shape)\n",
    "        \n",
    "        # contextual embedding is weigted sum of value, attention is weight\n",
    "        return attention_weights\n",
    "        \n",
    "        \n",
    "        \n",
    "        "
   ]
  },
  {
   "cell_type": "code",
   "execution_count": 16,
   "metadata": {},
   "outputs": [
    {
     "data": {
      "text/plain": [
       "tensor([16.])"
      ]
     },
     "execution_count": 16,
     "metadata": {},
     "output_type": "execute_result"
    }
   ],
   "source": []
  },
  {
   "cell_type": "code",
   "execution_count": 3,
   "metadata": {},
   "outputs": [],
   "source": [
    "mha = MHA()"
   ]
  },
  {
   "cell_type": "code",
   "execution_count": 4,
   "metadata": {},
   "outputs": [],
   "source": [
    "keys = torch.randn(10, 32, 100)\n",
    "queries = torch.randn(10, 32, 100)\n",
    "values = torch.randn(10, 32, 100)"
   ]
  },
  {
   "cell_type": "code",
   "execution_count": 5,
   "metadata": {},
   "outputs": [],
   "source": [
    "attention_weights = mha(keys, queries, values)"
   ]
  },
  {
   "cell_type": "code",
   "execution_count": 6,
   "metadata": {},
   "outputs": [
    {
     "data": {
      "text/plain": [
       "torch.Size([10, 32, 32])"
      ]
     },
     "execution_count": 6,
     "metadata": {},
     "output_type": "execute_result"
    }
   ],
   "source": [
    "attention_weights.shape"
   ]
  },
  {
   "cell_type": "code",
   "execution_count": 9,
   "metadata": {},
   "outputs": [
    {
     "ename": "IndexError",
     "evalue": "Dimension out of range (expected to be in range of [-3, 2], but got 3)",
     "output_type": "error",
     "traceback": [
      "\u001b[0;31m---------------------------------------------------------------------------\u001b[0m",
      "\u001b[0;31mIndexError\u001b[0m                                Traceback (most recent call last)",
      "\u001b[0;32m<ipython-input-9-d819685ba38f>\u001b[0m in \u001b[0;36m<module>\u001b[0;34m\u001b[0m\n\u001b[0;32m----> 1\u001b[0;31m \u001b[0mattention_weights\u001b[0m\u001b[0;34m.\u001b[0m\u001b[0msoftmax\u001b[0m\u001b[0;34m(\u001b[0m\u001b[0mdim\u001b[0m\u001b[0;34m=\u001b[0m\u001b[0;36m3\u001b[0m\u001b[0;34m)\u001b[0m\u001b[0;34m.\u001b[0m\u001b[0mshape\u001b[0m\u001b[0;34m\u001b[0m\u001b[0;34m\u001b[0m\u001b[0m\n\u001b[0m",
      "\u001b[0;31mIndexError\u001b[0m: Dimension out of range (expected to be in range of [-3, 2], but got 3)"
     ]
    }
   ],
   "source": [
    "attention_weights.softmax(dim=3).shape"
   ]
  },
  {
   "cell_type": "code",
   "execution_count": 10,
   "metadata": {},
   "outputs": [
    {
     "data": {
      "text/plain": [
       "torch.Size([10, 32, 32])"
      ]
     },
     "execution_count": 10,
     "metadata": {},
     "output_type": "execute_result"
    }
   ],
   "source": [
    "attention_weights"
   ]
  },
  {
   "cell_type": "markdown",
   "metadata": {},
   "source": [
    "<img src=\"../assets/transformer.png\"/> "
   ]
  },
  {
   "cell_type": "code",
   "execution_count": 43,
   "metadata": {},
   "outputs": [
    {
     "data": {
      "text/plain": [
       "\u001b[0;31mDocstring:\u001b[0m\n",
       "permute(*dims) -> Tensor\n",
       "\n",
       "Returns a view of the original tensor with its dimensions permuted.\n",
       "\n",
       "Args:\n",
       "    *dims (int...): The desired ordering of dimensions\n",
       "\n",
       "Example:\n",
       "    >>> x = torch.randn(2, 3, 5)\n",
       "    >>> x.size()\n",
       "    torch.Size([2, 3, 5])\n",
       "    >>> x.permute(2, 0, 1).size()\n",
       "    torch.Size([5, 2, 3])\n",
       "\u001b[0;31mType:\u001b[0m      builtin_function_or_method\n"
      ]
     },
     "metadata": {},
     "output_type": "display_data"
    }
   ],
   "source": [
    "keys.permute?"
   ]
  },
  {
   "cell_type": "code",
   "execution_count": null,
   "metadata": {},
   "outputs": [],
   "source": []
  }
 ],
 "metadata": {
  "kernelspec": {
   "display_name": "Python 3.7.6 64-bit ('base': conda)",
   "language": "python",
   "name": "python37664bitbaseconda1b4d65181bfe435290e55078ed6e0090"
  },
  "language_info": {
   "codemirror_mode": {
    "name": "ipython",
    "version": 3
   },
   "file_extension": ".py",
   "mimetype": "text/x-python",
   "name": "python",
   "nbconvert_exporter": "python",
   "pygments_lexer": "ipython3",
   "version": "3.7.6"
  }
 },
 "nbformat": 4,
 "nbformat_minor": 4
}
