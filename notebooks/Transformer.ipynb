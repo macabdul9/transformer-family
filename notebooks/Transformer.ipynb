{
 "cells": [
  {
   "cell_type": "markdown",
   "metadata": {},
   "source": [
    "### Model"
   ]
  },
  {
   "cell_type": "code",
   "execution_count": 1,
   "metadata": {},
   "outputs": [],
   "source": [
    "import torch\n",
    "import torch.nn as nn\n",
    "import torch.nn.functional as F"
   ]
  },
  {
   "cell_type": "code",
   "execution_count": 3,
   "metadata": {},
   "outputs": [
    {
     "data": {
      "text/plain": [
       "\u001b[0;31mInit signature:\u001b[0m \u001b[0mtorch\u001b[0m\u001b[0;34m.\u001b[0m\u001b[0mdevice\u001b[0m\u001b[0;34m(\u001b[0m\u001b[0mself\u001b[0m\u001b[0;34m,\u001b[0m \u001b[0;34m/\u001b[0m\u001b[0;34m,\u001b[0m \u001b[0;34m*\u001b[0m\u001b[0margs\u001b[0m\u001b[0;34m,\u001b[0m \u001b[0;34m**\u001b[0m\u001b[0mkwargs\u001b[0m\u001b[0;34m)\u001b[0m\u001b[0;34m\u001b[0m\u001b[0;34m\u001b[0m\u001b[0m\n",
       "\u001b[0;31mDocstring:\u001b[0m      <no docstring>\n",
       "\u001b[0;31mFile:\u001b[0m           ~/miniconda3/lib/python3.7/site-packages/torch/__init__.py\n",
       "\u001b[0;31mType:\u001b[0m           type\n",
       "\u001b[0;31mSubclasses:\u001b[0m     \n"
      ]
     },
     "metadata": {},
     "output_type": "display_data"
    }
   ],
   "source": [
    "deivic = torch.device(\"cuda\")"
   ]
  },
  {
   "cell_type": "code",
   "execution_count": null,
   "metadata": {},
   "outputs": [],
   "source": [
    "deivic = torch.device"
   ]
  },
  {
   "cell_type": "code",
   "execution_count": null,
   "metadata": {},
   "outputs": [],
   "source": [
    "deivic = tor"
   ]
  },
  {
   "cell_type": "markdown",
   "metadata": {},
   "source": [
    "##### Multihead Attention\n",
    "- Source\n",
    "    - [Algorithm Whiteboard : Attenton by Rasa](https://youtu.be/yGTUuEx3GkA)\n",
    "    - [Attention is all you need](https://arxiv.org/pdf/1706.03762.pdf)\n",
    "\n"
   ]
  },
  {
   "cell_type": "markdown",
   "metadata": {},
   "source": [
    "<img src=\"../assets/scp-mha.png\" width=\"1100\" height=\"200\"/>"
   ]
  },
  {
   "cell_type": "markdown",
   "metadata": {},
   "source": [
    "<img src=\"../assets/sda.png\" width=\"550\" height=\"700\"/> <img src=\"../assets/mha.png\" width=\"550\" height=\"700\"/> "
   ]
  },
  {
   "cell_type": "code",
   "execution_count": 3,
   "metadata": {},
   "outputs": [],
   "source": [
    "class MHA(nn.Module):\n",
    "    \"\"\"\n",
    "        Multihead attention block used as attention mechanism in Transformer model\n",
    "    \"\"\"\n",
    "    def __init__(self, num_heads = 8, embedding_dim=256, dropout=0.20):\n",
    "        super(MHA, self).__init__()\n",
    "        \n",
    "        self.embedding_dim = embedding_dim\n",
    "        self.num_heads = num_heads\n",
    "        self.head_dim = embedding_dim//num_heads # this is why head_dim  should be equal to \n",
    "        \n",
    "        # fully connected layers \n",
    "        self.fc_query = nn.Linear(in_features=embedding_dim, out_features=embedding_dim)\n",
    "        self.fc_key = nn.Linear(in_features=embedding_dim, out_features=embedding_dim)\n",
    "        self.fc_value = nn.Linear(in_features=embedding_dim, out_features=embedding_dim)\n",
    "        self.fc_out = nn.Linear(in_features=embedding_dim, out_features=embedding_dim)\n",
    "        \n",
    "        self.dropout = nn.Dropout(p=dropout)\n",
    "        \n",
    "        # each linear\n",
    "        self.scale = torch.sqrt(torch.tensor([embedding_dim], dtype=torch.float32))\n",
    "    \n",
    "    def forward(self, query, key, value, mask=None):\n",
    "        \"\"\"\n",
    "            keys.shape = queries.shape == values.shape -> [batch_size, seq_len, embedding_dim]\n",
    "        \"\"\"\n",
    "        batch_size, seq_len = query.shape[0], query.shape[1]\n",
    "        \n",
    "        # pass them to linear layer\n",
    "        Q = self.fc_query(query)\n",
    "        K = self.fc_key(key)\n",
    "        V = self.fc_value(value)\n",
    "        # Q.shape = K.shape = V.shape -> [batch, seq_len, embedding_dim]\n",
    "        \n",
    "        Q = Q.view(batch_size, seq_len, self.num_heads, self.head_dim).permute(0, 2, 1, 3)\n",
    "        K = K.view(batch_size, seq_len, self.num_heads, self.head_dim).permute(0, 2, 1, 3)\n",
    "        V = V.view(batch_size, seq_len, self.num_heads, self.head_dim).permute(0, 2, 1, 3)\n",
    "        # Q.shape = K.shape = V.shape -> [batch, num_heads, seq_len, head_dim]\n",
    "        \n",
    "        # compute the energy or attention weights\n",
    "        energy  = torch.matmul(Q, K.permute(0, 1, 3, 2))/self.scale\n",
    "        \n",
    "        # energy.shape -> [batch_size, num_heads, query_len, key_len]\n",
    "        if mask is not None:\n",
    "            energy = energy.masked_fill(mask == 0, -1e10)\n",
    "        \n",
    "        attention = F.softmax(energy, dim=-1)\n",
    "        # attention.shape ->[batch_size, num_heads, query_len, key_len]\n",
    "        \n",
    "        # compute the weighted sum, attention as weights, dim will not be an issue here\n",
    "        # _, _, query_len, key_len . _, _, val_len, head_dim\n",
    "        y = torch.matmul(self.dropout(attention), V)\n",
    "        \n",
    "        # concat the output and pass it through linear layer\n",
    "        y  = y.permute(0, 2, 1, 3).contiguous().view(batch_size, -1, self.embedding_dim)\n",
    "        y  = self.fc_out(y)\n",
    "        \n",
    "        return y, attention\n",
    "        "
   ]
  },
  {
   "cell_type": "markdown",
   "metadata": {},
   "source": [
    "#### Encoder Network"
   ]
  },
  {
   "cell_type": "markdown",
   "metadata": {},
   "source": [
    "<img src=\"../assets/transformer-encoder.png\" width=\"400\" height=\"400\" />"
   ]
  },
  {
   "cell_type": "code",
   "execution_count": 5,
   "metadata": {},
   "outputs": [],
   "source": [
    "class Encoder(nn.Module):\n",
    "   \"\"\"\n",
    "       Encoder to encode tbe input sequence\n",
    "   \"\"\"\n",
    "    def __init__(self,  embedding_dim, ):\n",
    "        pass\n",
    "    pass"
   ]
  },
  {
   "cell_type": "code",
   "execution_count": 6,
   "metadata": {},
   "outputs": [],
   "source": [
    "class Decoder(nn.Module):\n",
    "    \n",
    "    def __init__(self):\n",
    "        pass\n",
    "    pass"
   ]
  },
  {
   "cell_type": "code",
   "execution_count": null,
   "metadata": {},
   "outputs": [],
   "source": [
    "class Trasnformer()"
   ]
  },
  {
   "cell_type": "code",
   "execution_count": null,
   "metadata": {},
   "outputs": [],
   "source": []
  },
  {
   "cell_type": "code",
   "execution_count": 4,
   "metadata": {},
   "outputs": [],
   "source": [
    "mha = MHA()"
   ]
  },
  {
   "cell_type": "code",
   "execution_count": 5,
   "metadata": {},
   "outputs": [],
   "source": [
    "x = torch.randn(10, 32, 256)"
   ]
  },
  {
   "cell_type": "code",
   "execution_count": 6,
   "metadata": {},
   "outputs": [],
   "source": [
    "y, attention = mha(x, x, x)"
   ]
  },
  {
   "cell_type": "code",
   "execution_count": 15,
   "metadata": {},
   "outputs": [
    {
     "name": "stdout",
     "output_type": "stream",
     "text": [
      "torch.Size([10, 32, 256]) torch.Size([10, 8, 32, 32])\n"
     ]
    }
   ],
   "source": [
    "print(y.shape, attention.shape)"
   ]
  },
  {
   "cell_type": "markdown",
   "metadata": {},
   "source": [
    "### attention_weights"
   ]
  },
  {
   "cell_type": "markdown",
   "metadata": {},
   "source": [
    "<img src=\"../assets/transformer.png\"/> "
   ]
  },
  {
   "cell_type": "code",
   "execution_count": null,
   "metadata": {},
   "outputs": [],
   "source": []
  }
 ],
 "metadata": {
  "kernelspec": {
   "display_name": "Python 3.7.6 64-bit ('base': conda)",
   "language": "python",
   "name": "python37664bitbaseconda1b4d65181bfe435290e55078ed6e0090"
  },
  "language_info": {
   "codemirror_mode": {
    "name": "ipython",
    "version": 3
   },
   "file_extension": ".py",
   "mimetype": "text/x-python",
   "name": "python",
   "nbconvert_exporter": "python",
   "pygments_lexer": "ipython3",
   "version": "3.7.6"
  }
 },
 "nbformat": 4,
 "nbformat_minor": 4
}
